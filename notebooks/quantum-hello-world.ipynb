{
 "cells": [
  {
   "cell_type": "code",
   "execution_count": 1,
   "id": "cd74d59f-33e9-4b26-8803-dd5cf3bd60ee",
   "metadata": {},
   "outputs": [
    {
     "name": "stdout",
     "output_type": "stream",
     "text": [
      "Requirement already satisfied: qiskit in /opt/conda/lib/python3.11/site-packages (2.2.1)\n",
      "Requirement already satisfied: qiskit_aer in /opt/conda/lib/python3.11/site-packages (0.17.2)\n",
      "Requirement already satisfied: matplotlib in /opt/conda/lib/python3.11/site-packages (3.10.7)\n",
      "Requirement already satisfied: rustworkx>=0.15.0 in /opt/conda/lib/python3.11/site-packages (from qiskit) (0.17.1)\n",
      "Requirement already satisfied: numpy<3,>=1.17 in /opt/conda/lib/python3.11/site-packages (from qiskit) (2.3.4)\n",
      "Requirement already satisfied: scipy>=1.5 in /opt/conda/lib/python3.11/site-packages (from qiskit) (1.16.2)\n",
      "Requirement already satisfied: dill>=0.3 in /opt/conda/lib/python3.11/site-packages (from qiskit) (0.4.0)\n",
      "Requirement already satisfied: stevedore>=3.0.0 in /opt/conda/lib/python3.11/site-packages (from qiskit) (5.5.0)\n",
      "Requirement already satisfied: typing-extensions in /opt/conda/lib/python3.11/site-packages (from qiskit) (4.8.0)\n",
      "Requirement already satisfied: psutil>=5 in /opt/conda/lib/python3.11/site-packages (from qiskit_aer) (5.9.5)\n",
      "Requirement already satisfied: python-dateutil>=2.8.0 in /opt/conda/lib/python3.11/site-packages (from qiskit_aer) (2.8.2)\n",
      "Requirement already satisfied: contourpy>=1.0.1 in /opt/conda/lib/python3.11/site-packages (from matplotlib) (1.3.3)\n",
      "Requirement already satisfied: cycler>=0.10 in /opt/conda/lib/python3.11/site-packages (from matplotlib) (0.12.1)\n",
      "Requirement already satisfied: fonttools>=4.22.0 in /opt/conda/lib/python3.11/site-packages (from matplotlib) (4.60.1)\n",
      "Requirement already satisfied: kiwisolver>=1.3.1 in /opt/conda/lib/python3.11/site-packages (from matplotlib) (1.4.9)\n",
      "Requirement already satisfied: packaging>=20.0 in /opt/conda/lib/python3.11/site-packages (from matplotlib) (23.2)\n",
      "Requirement already satisfied: pillow>=8 in /opt/conda/lib/python3.11/site-packages (from matplotlib) (12.0.0)\n",
      "Requirement already satisfied: pyparsing>=3 in /opt/conda/lib/python3.11/site-packages (from matplotlib) (3.2.5)\n",
      "Requirement already satisfied: six>=1.5 in /opt/conda/lib/python3.11/site-packages (from python-dateutil>=2.8.0->qiskit_aer) (1.16.0)\n"
     ]
    }
   ],
   "source": [
    "!pip install qiskit qiskit_aer matplotlib"
   ]
  },
  {
   "cell_type": "code",
   "execution_count": 3,
   "id": "9b57fc74-0b3e-4d5e-b692-1189fc424467",
   "metadata": {},
   "outputs": [
    {
     "name": "stdout",
     "output_type": "stream",
     "text": [
      "==================================================\n",
      "HELLO WORLD - QUANTUM COMPUTING!\n",
      "==================================================\n",
      "\n",
      "Quantum Circuit:\n",
      "     ┌───┐┌─┐\n",
      "  q: ┤ H ├┤M├\n",
      "     └───┘└╥┘\n",
      "c: 1/══════╩═\n",
      "           0 \n",
      "\n",
      "This circuit creates a quantum superposition,\n",
      "the foundation of quantum computing power!\n",
      "\n",
      "==================================================\n",
      "Measurement Results (1000 shots):\n",
      "==================================================\n",
      "State |0⟩: 504 counts (50.4%)\n",
      "State |1⟩: 496 counts (49.6%)\n",
      "\n",
      "✨ Notice: The qubit measured as 0 and 1 with\n",
      "approximately equal probability (50/50)!\n",
      "This is quantum superposition in action! ✨\n",
      "\n",
      "Generating histogram...\n"
     ]
    },
    {
     "data": {
      "image/png": "[encoded data removed]",
      "text/plain": [
       "<Figure size 1000x600 with 1 Axes>"
      ]
     },
     "metadata": {},
     "output_type": "display_data"
    }
   ],
   "source": [
    "from qiskit import QuantumCircuit, QuantumRegister, ClassicalRegister\n",
    "from qiskit_aer import Aer\n",
    "from qiskit.visualization import plot_histogram\n",
    "import matplotlib.pyplot as plt\n",
    "\n",
    "# Create a simple \"Hello World\" quantum circuit\n",
    "# This is the quantum equivalent of a coin flip using superposition\n",
    "qr = QuantumRegister(1, 'q')\n",
    "cr = ClassicalRegister(1, 'c')\n",
    "circuit = QuantumCircuit(qr, cr)\n",
    "\n",
    "# Apply Hadamard gate to create superposition\n",
    "# This puts the qubit in state |+⟩ = (|0⟩ + |1⟩)/√2\n",
    "circuit.h(0)\n",
    "\n",
    "# Measure the qubit\n",
    "circuit.measure(0, 0)\n",
    "\n",
    "# Print the circuit\n",
    "print(\"=\" * 50)\n",
    "print(\"HELLO WORLD - QUANTUM COMPUTING!\")\n",
    "print(\"=\" * 50)\n",
    "print(\"\\nQuantum Circuit:\")\n",
    "print(circuit)\n",
    "print(\"\\nThis circuit creates a quantum superposition,\")\n",
    "print(\"the foundation of quantum computing power!\")\n",
    "\n",
    "# Run the circuit on a simulator\n",
    "simulator = Aer.get_backend('qasm_simulator')\n",
    "job = simulator.run(circuit, shots=1000)\n",
    "result = job.result()\n",
    "\n",
    "# Get the measurement results\n",
    "counts = result.get_counts(circuit)\n",
    "\n",
    "# Print results\n",
    "print(\"\\n\" + \"=\" * 50)\n",
    "print(\"Measurement Results (1000 shots):\")\n",
    "print(\"=\" * 50)\n",
    "for state, count in sorted(counts.items()):\n",
    "    print(f\"State |{state}⟩: {count} counts ({count/10:.1f}%)\")\n",
    "\n",
    "print(\"\\n✨ Notice: The qubit measured as 0 and 1 with\")\n",
    "print(\"approximately equal probability (50/50)!\")\n",
    "print(\"This is quantum superposition in action! ✨\")\n",
    "\n",
    "# Visualize the results\n",
    "print(\"\\nGenerating histogram...\")\n",
    "\n",
    "# Create histogram using matplotlib directly\n",
    "states = list(counts.keys())\n",
    "values = list(counts.values())\n",
    "\n",
    "plt.figure(figsize=(10, 6))\n",
    "plt.bar(states, values, color='steelblue', edgecolor='black', linewidth=1.5)\n",
    "plt.xlabel('Quantum State', fontsize=12)\n",
    "plt.ylabel('Counts', fontsize=12)\n",
    "plt.title('Hello World - Quantum Superposition', fontsize=14, fontweight='bold')\n",
    "plt.ylim(0, max(values) * 1.1)\n",
    "plt.grid(axis='y', alpha=0.3)\n",
    "\n",
    "# Add count labels on top of bars\n",
    "for i, (state, value) in enumerate(zip(states, values)):\n",
    "    plt.text(i, value + 10, str(value), ha='center', va='bottom', fontsize=11, fontweight='bold')\n",
    "\n",
    "plt.tight_layout()\n",
    "# plt.savefig('hello_world_quantum.png', dpi=300, bbox_inches='tight')\n",
    "plt.show()"
   ]
  },
  {
   "cell_type": "code",
   "execution_count": null,
   "id": "1aec6c2d-a41e-471e-a1a6-df3ac685972f",
   "metadata": {},
   "outputs": [],
   "source": []
  }
 ],
 "metadata": {
  "kernelspec": {
   "display_name": "Python 3 (ipykernel)",
   "language": "python",
   "name": "python3"
  },
  "language_info": {
   "codemirror_mode": {
    "name": "ipython",
    "version": 3
   },
   "file_extension": ".py",
   "mimetype": "text/x-python",
   "name": "python",
   "nbconvert_exporter": "python",
   "pygments_lexer": "ipython3",
   "version": "3.11.6"
  }
 },
 "nbformat": 4,
 "nbformat_minor": 5
}
