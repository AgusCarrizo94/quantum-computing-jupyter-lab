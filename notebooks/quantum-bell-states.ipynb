{
 "cells": [
  {
   "cell_type": "code",
   "execution_count": null,
   "metadata": {},
   "outputs": [],
   "source": [
    "!pip install qiskit[visualization] qiskit_aer matplotlib"
   ]
  },
  {
   "cell_type": "markdown",
   "metadata": {},
   "source": [
    "# Bell State Quantum Circuit"
   ]
  },
  {
   "cell_type": "code",
   "execution_count": null,
   "metadata": {},
   "outputs": [],
   "source": [
    "from qiskit import QuantumCircuit\n",
    "from qiskit_aer import Aer\n",
    "from qiskit.visualization import plot_histogram\n",
    "import matplotlib.pyplot as plt\n",
    "\n",
    "# Create a quantum circuit with 2 qubits and 2 classical bits\n",
    "qc = QuantumCircuit(2, 2)\n",
    "\n",
    "# Apply a Hadamard gate to the first qubit\n",
    "qc.h(0)\n",
    "\n",
    "# Apply a CNOT gate with qubit 0 as control and qubit 1 as target\n",
    "qc.cx(0, 1)\n",
    "\n",
    "# Map the quantum measurement to the classical bits\n",
    "qc.measure([0,1], [0,1])\n",
    "\n",
    "# Run the circuit on a simulator\n",
    "simulator = Aer.get_backend('qasm_simulator')\n",
    "job = simulator.run(qc, shots=1024)\n",
    "result = job.result()\n",
    "\n",
    "# Get the measurement results\n",
    "counts = result.get_counts(qc)\n",
    "\n",
    "# Print results\n",
    "print(\"==================================================\")\n",
    "print(\"BELL STATE - QUANTUM COMPUTING!\")\n",
    "print(\"==================================================\")\n",
    "print(\"\nQuantum Circuit:\")\n",
    "print(qc)\n",
    "print(\"\nThis circuit creates a Bell state,\")\n",
    "print(\"a fundamental example of quantum entanglement!\")\n",
    "\n",
    "print(\"\n" + "=" * 50)\n",
    "print(\"Measurement Results (1024 shots):\")\n",
    "print("=" * 50)\n",
    "for state, count in sorted(counts.items()):\n",
    "    print(f\"State |{state}⟩: {count} counts ({count/10.24:.1f}%)\")\n",
    "\n",
    "print(\"\n✨ Notice: The qubits measured as 00 and 11 with\")\n",
    "print(\"approximately equal probability (50/50)!\")\n",
    "print(\"This is quantum entanglement in action! ✨\")\n",
    "\n",
    "# Visualize the results\n",
    "print(\"\nGenerating histogram...\")\n",
    "\n",
    "# Create histogram using matplotlib directly\n",
    "states = list(counts.keys())\n",
    "values = list(counts.values())\n",
    "\n",
    "plt.figure(figsize=(10, 6))\n",
    "plt.bar(states, values, color='steelblue', edgecolor='black', linewidth=1.5)\n",
    "plt.xlabel('Quantum State', fontsize=12)\n",
    "plt.ylabel('Counts', fontsize=12)\n",
    "plt.title('Bell State - Quantum Entanglement', fontsize=14, fontweight='bold')\n",
    "plt.ylim(0, max(values) * 1.1)\n",
    "plt.grid(axis='y', alpha=0.3)\n",
    "\n",
    "# Add count labels on top of bars\n",
    "for i, (state, value) in enumerate(zip(states, values)):\n",
    "    plt.text(i, value + 10, str(value), ha='center', va='bottom', fontsize=11, fontweight='bold')\n",
    "\n",
    "plt.tight_layout()\n",
    "plt.show()"
   ]
  }
 ],
 "metadata": {
  "kernelspec": {
   "display_name": "Python 3",
   "language": "python",
   "name": "python3"
  },
  "language_info": {
   "codemirror_mode": {
    "name": "ipython",
    "version": 3
   },
   "file_extension": ".py",
   "mimetype": "text/x-python",
   "name": "python",
   "nbconvert_exporter": "python",
   "pygments_lexer": "ipython3",
   "version": "3.9.12"
  }
 },
 "nbformat": 4,
 "nbformat_minor": 4
}